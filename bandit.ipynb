{
 "cells": [
  {
   "cell_type": "markdown",
   "metadata": {},
   "source": [
    "### [OverTheWire - Bandit](https://overthewire.org/wargames/bandit/) \n",
    "A fun Capture-The-Flag style challenge for learning Linux skills, gamified!\n",
    "This is my write-up for challenges 0 to 12, but I'm aiming to complete it all. \n",
    "\n",
    "KEY: \n",
    "All user input is denoted by the > character."
   ]
  },
  {
   "cell_type": "markdown",
   "metadata": {},
   "source": [
    "### Bandit Level 0"
   ]
  },
  {
   "cell_type": "markdown",
   "metadata": {},
   "source": [
    "The goal of this level is for you to log into the game using SSH. The host to which you need to connect is bandit.labs.overthewire.org, on port 2220. The username is bandit0 and the password is bandit0. Once logged in, go to the Level 1 page to find out how to beat Level 1.\n",
    "\n",
    "Commands you may need to solve this level:\n",
    "ssh"
   ]
  },
  {
   "cell_type": "markdown",
   "metadata": {},
   "source": [
    "> ssh is used to access secure shell <br>\n",
    ">   -p flag is port and -l is login name\n",
    "\n",
    "```\n",
    "ssh bandit.labs.overthewire.org -p 2220 -l bandit0\n",
    "> bandit0\n",
    "```"
   ]
  },
  {
   "cell_type": "markdown",
   "metadata": {},
   "source": [
    "### Bandit Level 0 → Level 1"
   ]
  },
  {
   "cell_type": "markdown",
   "metadata": {},
   "source": [
    "The password for the next level is stored in a file called readme located in the home directory. Use this password to log into bandit1 using SSH. Whenever you find a password for a level, use SSH (on port 2220) to log into that level and continue the game.\n",
    "\n",
    "Commands you may need to solve this level:\n",
    "ls , cd , cat , file , du , find"
   ]
  },
  {
   "cell_type": "markdown",
   "metadata": {},
   "source": [
    "> cat is used to print file contents to terminal <br>\n",
    "> exit leaves the ssh, then user can log into the next bandit profile\n",
    "\n",
    "```\n",
    "cat readme\n",
    "exit\n",
    "ssh bandit.labs.overthewire.org -p 2220 -l bandit1\n",
    "> NH2SXQwcBdpmTEzi3bvBHMM9H66vVXjL\n",
    "```"
   ]
  },
  {
   "cell_type": "markdown",
   "metadata": {},
   "source": [
    "### Bandit Level 1 → Level 2"
   ]
  },
  {
   "cell_type": "markdown",
   "metadata": {},
   "source": [
    "The password for the next level is stored in a file called - located in the home directory\n",
    "\n",
    "Commands you may need to solve this level:\n",
    "ls , cd , cat , file , du , find"
   ]
  },
  {
   "cell_type": "markdown",
   "metadata": {},
   "source": [
    "> \"./\" specifies current directory, and allows the user to use the - character <br>\n",
    "> (normally - denotes flags, which confuses the cli)\n",
    "\n",
    "```\n",
    "ls\n",
    "cat ./- \n",
    "exit\n",
    "ssh bandit.labs.overthewire.org -p 2220 -l bandit2\n",
    "> rRGizSaX8Mk1RTb1CNQoXTcYZWU6lgzi\n",
    "```"
   ]
  },
  {
   "cell_type": "markdown",
   "metadata": {},
   "source": [
    "### Bandit Level 2 → Level 3"
   ]
  },
  {
   "cell_type": "markdown",
   "metadata": {},
   "source": [
    "The password for the next level is stored in a file called spaces in this filename located in the home directory\n",
    "\n",
    "Commands you may need to solve this level:\n",
    "ls , cd , cat , file , du , find"
   ]
  },
  {
   "cell_type": "markdown",
   "metadata": {},
   "source": [
    "> the space character can be specified by using backslash, <br>\n",
    "> which allows for many non-typeable characters to be used <br>\n",
    "> (alternatively, tab autocomplete can be used to fill in file name)\n",
    "\n",
    "```\n",
    "ls\n",
    "cat spaces\\ in\\ this\\ filename \n",
    "exit\n",
    "ssh bandit.labs.overthewire.org -p 2220 -l bandit3\n",
    "> aBZ0W5EmUfAf7kHTQeOwd8bauFJ2lAiG\n",
    "```"
   ]
  },
  {
   "cell_type": "markdown",
   "metadata": {},
   "source": [
    "### Bandit Level 3 → Level 4"
   ]
  },
  {
   "cell_type": "markdown",
   "metadata": {},
   "source": [
    "The password for the next level is stored in a hidden file in the inhere directory.\n",
    "\n",
    "Commands you may need to solve this level:\n",
    "ls , cd , cat , file , du , find"
   ]
  },
  {
   "cell_type": "markdown",
   "metadata": {},
   "source": [
    "> \"ls -a\" lists all files, even hidden ones <br>\n",
    "> \"file\" checks what kind of file it is, cd allows user to change directory into the file\n",
    "\n",
    "```\n",
    "ls -a\n",
    "file inhere\n",
    "cd inhere\n",
    "ls -a\n",
    "cat .hidden\n",
    "exit\n",
    "ssh bandit.labs.overthewire.org -p 2220 -l bandit4\n",
    "> 2EW7BBsr6aMMoJ2HjW067dm8EgX26xNe\n",
    "```"
   ]
  },
  {
   "cell_type": "markdown",
   "metadata": {},
   "source": [
    "### Bandit Level 4 → Level 5"
   ]
  },
  {
   "cell_type": "markdown",
   "metadata": {},
   "source": [
    "The password for the next level is stored in the only human-readable file in the inhere directory. Tip: if your terminal is messed up, try the “reset” command.\n",
    "\n",
    "Commands you may need to solve this level:\n",
    "ls , cd , cat , file , du , find"
   ]
  },
  {
   "cell_type": "markdown",
   "metadata": {},
   "source": [
    "> \"file ./-file*\" lists all file types that start with \"-file\" in the current directory (\"./\") <br>\n",
    "> \"*\" is a wildcard, which denotes all possibilities\n",
    "\n",
    "```\n",
    "ls\n",
    "cd inhere\n",
    "file ./-file*\n",
    "cd ./-file07\n",
    "exit\n",
    "ssh bandit.labs.overthewire.org -p 2220 -l bandit5\n",
    "> lrIWWI6bB37kxfiCQZqUdOIYfr6eEeqR\n",
    "```"
   ]
  },
  {
   "cell_type": "markdown",
   "metadata": {},
   "source": [
    "### Bandit Level 5 → Level 6"
   ]
  },
  {
   "cell_type": "markdown",
   "metadata": {},
   "source": [
    "The password for the next level is stored in a file somewhere under the inhere directory and has all of the following properties:\n",
    "\n",
    "human-readable,\n",
    "1033 bytes in size,\n",
    "not executable\n",
    "\n",
    "Commands you may need to solve this level:\n",
    "ls , cd , cat , file , du , find"
   ]
  },
  {
   "cell_type": "markdown",
   "metadata": {},
   "source": [
    "> ls -la ./maybehere* is used to list long information (\"-l\") of every maybe here file\n",
    ">\"./maybehere07 <br>\n",
    ">    ...<br>\n",
    ">    -rw-r-----  1 root bandit5 1033 Oct  5 06:19 .file2\" <br>\n",
    "> terminal output that shows 1033 bytes <br>\n",
    "> not executable (\"-rw-r-----\") is permissions for file execution \n",
    "\n",
    "```\n",
    "ls\n",
    "cd inhere\n",
    "ls\n",
    "file ./maybehere*\n",
    "ls -la ./maybehere*\n",
    "cd maybehere07\n",
    "cat ./.file2\n",
    "exit\n",
    "ssh bandit.labs.overthewire.org -p 2220 -l bandit6\n",
    "> P4L4vucdmLnm8I7Vl7jG1ApGSfjYKqJU\n",
    "```"
   ]
  },
  {
   "cell_type": "markdown",
   "metadata": {},
   "source": [
    "### Bandit Level 6 → Level 7"
   ]
  },
  {
   "cell_type": "markdown",
   "metadata": {},
   "source": [
    "The password for the next level is stored somewhere on the server and has all of the following properties:\n",
    "\n",
    "owned by user bandit7,\n",
    "owned by group bandit6,\n",
    "33 bytes in size\n",
    "\n",
    "Commands you may need to solve this level:\n",
    "ls , cd , cat , file , du , find , grep"
   ]
  },
  {
   "cell_type": "markdown",
   "metadata": {},
   "source": [
    "> find command uses / (root directory, searches whole system) <br>\n",
    "> -size 33c looks for 33 bytes <br>\n",
    "> -group bandit6 looks for owned group bandit6 <br>\n",
    "> -user bandit7 looks for owned user bandit7 <vbr>\n",
    "> 2>/dev/null removes permission errors for file access <br>\n",
    "\n",
    "```\n",
    "ls -a\n",
    "find / -type f -size 33c -group bandit6 -user bandit7 2>/dev/null\n",
    "cat /var/lib/dpkg/info/bandit7.password\n",
    "exit\n",
    "ssh bandit.labs.overthewire.org -p 2220 -l bandit7\n",
    "> z7WtoNQU2XfjmMtWA8u5rN4vzqu4v99S\n",
    "```"
   ]
  },
  {
   "cell_type": "markdown",
   "metadata": {},
   "source": [
    "### Bandit Level 7 → Level 8"
   ]
  },
  {
   "cell_type": "markdown",
   "metadata": {},
   "source": [
    "The password for the next level is stored in the file data.txt next to the word millionth\n",
    "\n",
    "Commands you may need to solve this level: \n",
    "man, grep, sort, uniq, strings, base64, tr, tar, gzip, bzip2, xxd"
   ]
  },
  {
   "cell_type": "markdown",
   "metadata": {},
   "source": [
    "> grep is used to find strings in a file <br>\n",
    "> use 'millionth' as a key, grep gives us the whole line with the specified string <br>\n",
    "\n",
    "```\n",
    "ls \n",
    "grep 'millionth'  data.txt\n",
    "exit\n",
    "ssh bandit.labs.overthewire.org -p 2220 -l bandit8\n",
    "> TESKZC0XvTetK0S9xNwm25STk5iWrBvP\n",
    "```"
   ]
  },
  {
   "cell_type": "markdown",
   "metadata": {},
   "source": [
    "### Bandit Level 8 → Level 9"
   ]
  },
  {
   "cell_type": "markdown",
   "metadata": {},
   "source": [
    "The password for the next level is stored in the file data.txt and is the only line of text that occurs only once\n",
    "\n",
    "Commands you may need to solve this level: \n",
    "grep, sort, uniq, strings, base64, tr, tar, gzip, bzip2, xxd"
   ]
  },
  {
   "cell_type": "markdown",
   "metadata": {},
   "source": [
    "> used sort data.txt so we can use uniq -u <br>\n",
    "> uniq -u gets all unique adjacent lines, need to sort first so it can work <br>\n",
    "> \"|\" denotes piping, which gets output of one function and inputs it to another function <br>\n",
    "\n",
    "```\n",
    "ls\n",
    "sort data.txt | uniq -u \n",
    "exit\n",
    "ssh bandit.labs.overthewire.org -p 2220 -l bandit9\n",
    "> EN632PlfYiZbn3PhVK3XOGSlNInNE00t\n",
    "```"
   ]
  },
  {
   "cell_type": "markdown",
   "metadata": {},
   "source": [
    "### Bandit Level 9 → Level 10\n"
   ]
  },
  {
   "cell_type": "markdown",
   "metadata": {},
   "source": [
    "The password for the next level is stored in the file data.txt in one of the few human-readable strings, preceded by several ‘=’ characters.\n",
    "\n",
    "Commands you may need to solve this level:\n",
    "grep, sort, uniq, strings, base64, tr, tar, gzip, bzip2, xxd"
   ]
  },
  {
   "cell_type": "markdown",
   "metadata": {},
   "source": [
    "> strings command finds human readable text <br>\n",
    "> grep filters only those with == in the same line <br>\n",
    "> (not =, since its several = characters to narrow down options)\n",
    "\n",
    "```\n",
    "ls\n",
    "strings data.txt | grep ==> \n",
    "exit\n",
    "ssh bandit.labs.overthewire.org -p 2220 -l bandit10\n",
    "> G7w8LIi6J3kTb8A7j9LgrywtEUlyyp6s\n",
    "```"
   ]
  },
  {
   "cell_type": "markdown",
   "metadata": {},
   "source": [
    "### Bandit Level 10 → Level 11"
   ]
  },
  {
   "cell_type": "markdown",
   "metadata": {},
   "source": [
    "The password for the next level is stored in the file data.txt, which contains base64 encoded data\n",
    "\n",
    "Commands you may need to solve this level: \n",
    "grep, sort, uniq, strings, base64, tr, tar, gzip, bzip2, xxd\n",
    "\n"
   ]
  },
  {
   "cell_type": "markdown",
   "metadata": {},
   "source": [
    "> base64 -d is used to decode base64 and output the result\n",
    "\n",
    "```\n",
    "ls\n",
    "base64 -d data.txt\n",
    "exit\n",
    "ssh bandit.labs.overthewire.org -p 2220 -l bandit11\n",
    "> 6zPeziLdR2RKNdNYFNb6nVCKzphlXHBM\n",
    "```"
   ]
  },
  {
   "cell_type": "markdown",
   "metadata": {},
   "source": [
    "### Bandit Level 11 → Level 12"
   ]
  },
  {
   "cell_type": "markdown",
   "metadata": {},
   "source": [
    "The password for the next level is stored in the file data.txt, where all lowercase (a-z) and uppercase (A-Z) letters have been rotated by 13 positions\n",
    "\n",
    "Commands you may need to solve this level:\n",
    "grep, sort, uniq, strings, base64, tr, tar, gzip, bzip2, xxd"
   ]
  },
  {
   "cell_type": "markdown",
   "metadata": {},
   "source": [
    "> tr is used to translate a set of characters <br>\n",
    "> [A-Za-z] expands to all characters through A-Z and a-z <br>\n",
    "> [N-ZA-Mn-za-m] expands to all characters through N-Z + A-M and same with lowercase <br>\n",
    "> we start at N because A maps to N, as letters are rotated by 13 positions <br>\n",
    "\n",
    "```\n",
    "ls\n",
    "cat data.txt | tr '[A-Za-z]' '[N-ZA-Mn-za-m]'\n",
    "    \"translates upper/lower against NOPQRSTUVWXYZABCDEFGHIJKLMnopqrstuvwxyzabcdefghijklm, n is 14th letter\"\n",
    "exit\n",
    "ssh bandit.labs.overthewire.org -p 2220 -l bandit12\n",
    "> JVNBBFSmZwKKOP0XbFXOoW8chDz5yVRv\n",
    "```"
   ]
  }
 ],
 "metadata": {
  "kernelspec": {
   "display_name": "Python 3.10.6 64-bit",
   "language": "python",
   "name": "python3"
  },
  "language_info": {
   "codemirror_mode": {
    "name": "ipython",
    "version": 3
   },
   "file_extension": ".py",
   "mimetype": "text/x-python",
   "name": "python",
   "nbconvert_exporter": "python",
   "pygments_lexer": "ipython3",
   "version": "3.10.6"
  },
  "orig_nbformat": 4,
  "vscode": {
   "interpreter": {
    "hash": "aee8b7b246df8f9039afb4144a1f6fd8d2ca17a180786b69acc140d282b71a49"
   }
  }
 },
 "nbformat": 4,
 "nbformat_minor": 2
}

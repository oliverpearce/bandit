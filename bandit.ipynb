{
 "cells": [
  {
   "cell_type": "markdown",
   "metadata": {},
   "source": [
    "### [OverTheWire - Bandit](https://overthewire.org/wargames/bandit/) \n",
    "A fun Capture-The-Flag style challenge for learning Linux skills, gamified!\n",
    "This is my write-up for challenges 0 to 12, but I'm aiming to complete it all. \n",
    "\n",
    "KEY: \n",
    "All input I used is denoted by the > character."
   ]
  },
  {
   "cell_type": "markdown",
   "metadata": {},
   "source": [
    "### Bandit Level 0"
   ]
  },
  {
   "cell_type": "markdown",
   "metadata": {},
   "source": [
    "The goal of this level is for you to log into the game using SSH. The host to which you need to connect is bandit.labs.overthewire.org, on port 2220. The username is bandit0 and the password is bandit0. Once logged in, go to the Level 1 page to find out how to beat Level 1.\n",
    "\n",
    "Commands you may need to solve this level:\n",
    "ssh"
   ]
  },
  {
   "cell_type": "markdown",
   "metadata": {},
   "source": [
    "```\n",
    "ssh bandit.labs.overthewire.org -p 2220 -l bandit0\n",
    "> bandit0\n",
    "```"
   ]
  },
  {
   "cell_type": "markdown",
   "metadata": {},
   "source": [
    "### Bandit Level 0 → Level 1"
   ]
  },
  {
   "cell_type": "markdown",
   "metadata": {},
   "source": [
    "The password for the next level is stored in a file called readme located in the home directory. Use this password to log into bandit1 using SSH. Whenever you find a password for a level, use SSH (on port 2220) to log into that level and continue the game.\n",
    "\n",
    "Commands you may need to solve this level:\n",
    "ls , cd , cat , file , du , find"
   ]
  },
  {
   "cell_type": "markdown",
   "metadata": {},
   "source": [
    "```\n",
    "cat readme\n",
    "exit\n",
    "ssh bandit.labs.overthewire.org -p 2220 -l bandit1\n",
    "> NH2SXQwcBdpmTEzi3bvBHMM9H66vVXjL\n",
    "```"
   ]
  },
  {
   "cell_type": "markdown",
   "metadata": {},
   "source": [
    "### Bandit Level 1 → Level 2"
   ]
  },
  {
   "cell_type": "markdown",
   "metadata": {},
   "source": [
    "The password for the next level is stored in a file called - located in the home directory\n",
    "\n",
    "Commands you may need to solve this level:\n",
    "ls , cd , cat , file , du , find"
   ]
  },
  {
   "cell_type": "markdown",
   "metadata": {},
   "source": [
    "```\n",
    "ls\n",
    "cat ./- \n",
    "exit\n",
    "ssh bandit.labs.overthewire.org -p 2220 -l bandit2\n",
    "> rRGizSaX8Mk1RTb1CNQoXTcYZWU6lgzi\n",
    "```"
   ]
  },
  {
   "cell_type": "markdown",
   "metadata": {},
   "source": [
    "### Bandit Level 2 → Level 3"
   ]
  },
  {
   "cell_type": "markdown",
   "metadata": {},
   "source": [
    "The password for the next level is stored in a file called spaces in this filename located in the home directory\n",
    "\n",
    "Commands you may need to solve this level:\n",
    "ls , cd , cat , file , du , find"
   ]
  },
  {
   "cell_type": "markdown",
   "metadata": {},
   "source": [
    "```\n",
    "ls\n",
    "cat spaces\\ in\\ this\\ filename \n",
    "exit\n",
    "ssh bandit.labs.overthewire.org -p 2220 -l bandit3\n",
    "> aBZ0W5EmUfAf7kHTQeOwd8bauFJ2lAiG\n",
    "```"
   ]
  },
  {
   "cell_type": "markdown",
   "metadata": {},
   "source": [
    "### Bandit Level 3 → Level 4"
   ]
  },
  {
   "cell_type": "markdown",
   "metadata": {},
   "source": [
    "The password for the next level is stored in a hidden file in the inhere directory.\n",
    "\n",
    "Commands you may need to solve this level:\n",
    "ls , cd , cat , file , du , find"
   ]
  },
  {
   "cell_type": "markdown",
   "metadata": {},
   "source": [
    "```\n",
    "ls -a\n",
    "file inhere\n",
    "cd inhere\n",
    "ls -a\n",
    "cat .hidden\n",
    "exit\n",
    "ssh bandit.labs.overthewire.org -p 2220 -l bandit4\n",
    "> 2EW7BBsr6aMMoJ2HjW067dm8EgX26xNe\n",
    "```"
   ]
  },
  {
   "cell_type": "markdown",
   "metadata": {},
   "source": [
    "### Bandit Level 4 → Level 5"
   ]
  },
  {
   "cell_type": "markdown",
   "metadata": {},
   "source": [
    "The password for the next level is stored in the only human-readable file in the inhere directory. Tip: if your terminal is messed up, try the “reset” command.\n",
    "\n",
    "Commands you may need to solve this level:\n",
    "ls , cd , cat , file , du , find"
   ]
  },
  {
   "cell_type": "markdown",
   "metadata": {},
   "source": [
    "```\n",
    "ls -ah\n",
    "cd inhere\n",
    "file ./-file*\n",
    "cd ./-file07\n",
    "exit\n",
    "ssh bandit.labs.overthewire.org -p 2220 -l bandit5\n",
    "> lrIWWI6bB37kxfiCQZqUdOIYfr6eEeqR\n",
    "```"
   ]
  },
  {
   "cell_type": "markdown",
   "metadata": {},
   "source": [
    "### Bandit Level 5 → Level 6"
   ]
  },
  {
   "cell_type": "markdown",
   "metadata": {},
   "source": [
    "The password for the next level is stored in a file somewhere under the inhere directory and has all of the following properties:\n",
    "\n",
    "human-readable,\n",
    "1033 bytes in size,\n",
    "not executable\n",
    "\n",
    "Commands you may need to solve this level:\n",
    "ls , cd , cat , file , du , find"
   ]
  },
  {
   "cell_type": "markdown",
   "metadata": {},
   "source": [
    "```\n",
    "ls\n",
    "cd inhere\n",
    "ls\n",
    "file ./maybehere*\n",
    "ls -la ./maybehere*\n",
    "    \"./maybehere07 \n",
    "    ...\n",
    "    -rw-r-----  1 root bandit5 1033 Oct  5 06:19 .file2\" \n",
    "    meets all the requirements!\n",
    "cd maybehere07\n",
    "cat ./.file2\n",
    "exit\n",
    "ssh bandit.labs.overthewire.org -p 2220 -l bandit6\n",
    "> P4L4vucdmLnm8I7Vl7jG1ApGSfjYKqJU\n",
    "```"
   ]
  },
  {
   "cell_type": "markdown",
   "metadata": {},
   "source": [
    "### Bandit Level 6 → Level 7"
   ]
  },
  {
   "cell_type": "markdown",
   "metadata": {},
   "source": [
    "The password for the next level is stored somewhere on the server and has all of the following properties:\n",
    "\n",
    "owned by user bandit7,\n",
    "owned by group bandit6,\n",
    "33 bytes in size\n",
    "\n",
    "Commands you may need to solve this level:\n",
    "ls , cd , cat , file , du , find , grep"
   ]
  },
  {
   "cell_type": "markdown",
   "metadata": {},
   "source": [
    "```\n",
    "ls -a\n",
    "find / -type f -size 33c -group bandit6 -user bandit7 2>/dev/null\n",
    "cat /var/lib/dpkg/info/bandit7.password\n",
    "exit\n",
    "ssh bandit.labs.overthewire.org -p 2220 -l bandit7\n",
    "> z7WtoNQU2XfjmMtWA8u5rN4vzqu4v99S\n",
    "```"
   ]
  },
  {
   "cell_type": "markdown",
   "metadata": {},
   "source": [
    "### Bandit Level 7 → Level 8"
   ]
  },
  {
   "cell_type": "markdown",
   "metadata": {},
   "source": [
    "The password for the next level is stored in the file data.txt next to the word millionth\n",
    "\n",
    "Commands you may need to solve this level: \n",
    "man, grep, sort, uniq, strings, base64, tr, tar, gzip, bzip2, xxd"
   ]
  },
  {
   "cell_type": "markdown",
   "metadata": {},
   "source": [
    "```\n",
    "ls \n",
    "grep 'millionth'  data.txt\n",
    "exit\n",
    "ssh bandit.labs.overthewire.org -p 2220 -l bandit8\n",
    "> TESKZC0XvTetK0S9xNwm25STk5iWrBvP\n",
    "```"
   ]
  },
  {
   "cell_type": "markdown",
   "metadata": {},
   "source": [
    "### Bandit Level 8 → Level 9"
   ]
  },
  {
   "cell_type": "markdown",
   "metadata": {},
   "source": [
    "The password for the next level is stored in the file data.txt and is the only line of text that occurs only once\n",
    "\n",
    "Commands you may need to solve this level: \n",
    "grep, sort, uniq, strings, base64, tr, tar, gzip, bzip2, xxd"
   ]
  },
  {
   "cell_type": "markdown",
   "metadata": {},
   "source": [
    "```\n",
    "ls\n",
    "sort data.txt | uniq -u \n",
    "    \"have to sort first, because uniq only works on adjacent lines\"\n",
    "exit\n",
    "ssh bandit.labs.overthewire.org -p 2220 -l bandit9\n",
    "> EN632PlfYiZbn3PhVK3XOGSlNInNE00t\n",
    "```"
   ]
  },
  {
   "cell_type": "markdown",
   "metadata": {},
   "source": [
    "### Bandit Level 9 → Level 10\n"
   ]
  },
  {
   "cell_type": "markdown",
   "metadata": {},
   "source": [
    "The password for the next level is stored in the file data.txt in one of the few human-readable strings, preceded by several ‘=’ characters.\n",
    "\n",
    "Commands you may need to solve this level:\n",
    "grep, sort, uniq, strings, base64, tr, tar, gzip, bzip2, xxd"
   ]
  },
  {
   "cell_type": "markdown",
   "metadata": {},
   "source": [
    "```\n",
    "ls\n",
    "strings data.txt | grep ==> \n",
    "    \"strings finds human readable text, grep filters only those with == in the same line\"\n",
    "exit\n",
    "ssh bandit.labs.overthewire.org -p 2220 -l bandit10\n",
    "> G7w8LIi6J3kTb8A7j9LgrywtEUlyyp6s\n",
    "```"
   ]
  },
  {
   "cell_type": "markdown",
   "metadata": {},
   "source": [
    "### Bandit Level 10 → Level 11"
   ]
  },
  {
   "cell_type": "markdown",
   "metadata": {},
   "source": [
    "The password for the next level is stored in the file data.txt, which contains base64 encoded data\n",
    "\n",
    "Commands you may need to solve this level: \n",
    "grep, sort, uniq, strings, base64, tr, tar, gzip, bzip2, xxd\n",
    "\n"
   ]
  },
  {
   "cell_type": "markdown",
   "metadata": {},
   "source": [
    "```\n",
    "ls\n",
    "base64 -d data.txt\n",
    "exit\n",
    "ssh bandit.labs.overthewire.org -p 2220 -l bandit11\n",
    "> 6zPeziLdR2RKNdNYFNb6nVCKzphlXHBM\n",
    "```"
   ]
  },
  {
   "cell_type": "markdown",
   "metadata": {},
   "source": [
    "### Bandit Level 11 → Level 12"
   ]
  },
  {
   "cell_type": "markdown",
   "metadata": {},
   "source": [
    "The password for the next level is stored in the file data.txt, where all lowercase (a-z) and uppercase (A-Z) letters have been rotated by 13 positions\n",
    "\n",
    "Commands you may need to solve this level:\n",
    "grep, sort, uniq, strings, base64, tr, tar, gzip, bzip2, xxd"
   ]
  },
  {
   "cell_type": "markdown",
   "metadata": {},
   "source": [
    "```\n",
    "ls\n",
    "cat data.txt | tr '[A-Za-z]' '[N-ZA-Mn-za-m]'\n",
    "    \"translates upper/lower against NOPQRSTUVWXYZABCDEFGHIJKLMnopqrstuvwxyzabcdefghijklm, n is 14th letter\"\n",
    "exit\n",
    "ssh bandit.labs.overthewire.org -p 2220 -l bandit12\n",
    "> JVNBBFSmZwKKOP0XbFXOoW8chDz5yVRv\n",
    "```"
   ]
  }
 ],
 "metadata": {
  "kernelspec": {
   "display_name": "Python 3.10.6 64-bit",
   "language": "python",
   "name": "python3"
  },
  "language_info": {
   "codemirror_mode": {
    "name": "ipython",
    "version": 3
   },
   "file_extension": ".py",
   "mimetype": "text/x-python",
   "name": "python",
   "nbconvert_exporter": "python",
   "pygments_lexer": "ipython3",
   "version": "3.10.6"
  },
  "orig_nbformat": 4,
  "vscode": {
   "interpreter": {
    "hash": "aee8b7b246df8f9039afb4144a1f6fd8d2ca17a180786b69acc140d282b71a49"
   }
  }
 },
 "nbformat": 4,
 "nbformat_minor": 2
}
